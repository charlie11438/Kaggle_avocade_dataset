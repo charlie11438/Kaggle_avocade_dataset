{
 "cells": [
  {
   "cell_type": "markdown",
   "metadata": {},
   "source": [
    "# Kaggle--Avocado Prices dataset\n",
    "\n",
    "# 2019-04-13 start"
   ]
  },
  {
   "cell_type": "markdown",
   "metadata": {},
   "source": [
    "# Summary\n",
    "\n",
    "## Describe Statistics\n",
    "\n",
    "- Mean of average price is 1.4,mode is 1.15\n",
    "\n",
    "\n",
    "- Mode of total volume is not unique.\n",
    "\n",
    "\n",
    "- The other data(except average price) is dispersion,\n",
    "\n",
    "  and large different from normal distribution\n",
    "\n",
    "\n",
    "- All of data is possitive distribution\n",
    "\n",
    "\n",
    "## Total bags of each year\n",
    "\n",
    "- 2017 has the most number of total bags than other year\n",
    "\n",
    "\n",
    "- 2018's data is not completed\n",
    "\n",
    "\n",
    "- Number of bags is increasing.\n",
    "\n",
    "\n",
    "## Trend of average price\n",
    "\n",
    "- The trend of average price seems to be cyclical\n",
    "\n",
    "\n",
    "- 2017's average price has much more fluctuation\n",
    "\n",
    "\n",
    "- 2017/9 has the highest average price,\n",
    "\n",
    "  and 2016/5 has the lowest average price\n",
    "\n",
    "\n",
    "- Winter's price is normally low,\n",
    "\n",
    "  and autumn's price is normally high.\n",
    "  \n",
    "  \n",
    "## Percentage of different size bags\n",
    "\n",
    "- percentage of differnet size bags each year\n",
    "\n",
    "\n",
    "Year | Bag Size | Percentage |\n",
    "----- | -------- | ------------ |\n",
    "2015 | Small Bags | 82.19% |\n",
    "     | Large Bags | 17.10% |\n",
    "     | XLarge Bags | 0.7% |\n",
    "2016 | Small Bags | 75.62% |\n",
    "     | Large Bags | 23.01% |\n",
    "     | XLarge Bags | 1.37% |\n",
    "2017 | Small Bags | 74.29% |\n",
    "     | Large Bags | 24.26% |\n",
    "     | XLarge Bags | 1.46% |\n",
    "2018 | Small Bags | 73.39% |\n",
    "     | Large Bags | 25.14% |\n",
    "     | XLarge Bags | 1.47% |\n",
    "\n",
    "\n",
    "- The percentage of small bags is decreasing.\n",
    "\n",
    "\n",
    "- Between 2015 and 2016,XLarge bags suddenly increase.\n",
    "\n",
    "\n",
    "- The percentage of large bags and Xlarge bags is increasing.\n",
    "\n",
    "## Correlation analysis\n",
    "\n",
    "- Category is negative correlation with average price\n",
    "\n",
    "\n",
    "- Region is less correlation with average price\n",
    "\n",
    "\n",
    "- Feature selection is feasibility\n",
    "\n",
    "\n",
    "## Principal component analysis\n",
    "\n",
    "- Finding the explained variance ratio\n",
    "\n",
    "\n",
    "- n_components choose 3\n",
    "\n",
    "## Predict\n",
    "\n",
    "- Using feature selection is better than using PCA\n",
    "\n",
    "\n",
    "- With using feature selection,r2_score is 0.52\n",
    "\n",
    "\n",
    "- With using this data,training model is hard\n"
   ]
  },
  {
   "cell_type": "code",
   "execution_count": 77,
   "metadata": {},
   "outputs": [],
   "source": [
    "import numpy as np\n",
    "import pandas as pd\n",
    "import matplotlib.pyplot as plt\n",
    "import seaborn as sns\n",
    "from sklearn.model_selection import train_test_split\n",
    "from sklearn.decomposition import PCA\n",
    "from sklearn.preprocessing import LabelEncoder\n",
    "from sklearn.ensemble import GradientBoostingRegressor\n",
    "from sklearn.metrics import r2_score,mean_squared_error, \\\n",
    "mean_absolute_error,explained_variance_score\n",
    "sns.set()"
   ]
  },
  {
   "cell_type": "code",
   "execution_count": 2,
   "metadata": {},
   "outputs": [],
   "source": [
    "original=pd.read_csv('./avocado.csv')"
   ]
  },
  {
   "cell_type": "code",
   "execution_count": 3,
   "metadata": {},
   "outputs": [
    {
     "name": "stdout",
     "output_type": "stream",
     "text": [
      "   Unnamed: 0        Date  AveragePrice  Total Volume     4046       4225  \\\n",
      "0           0  2015-12-27          1.33      64236.62  1036.74   54454.85   \n",
      "1           1  2015-12-20          1.35      54876.98   674.28   44638.81   \n",
      "2           2  2015-12-13          0.93     118220.22   794.70  109149.67   \n",
      "3           3  2015-12-06          1.08      78992.15  1132.00   71976.41   \n",
      "4           4  2015-11-29          1.28      51039.60   941.48   43838.39   \n",
      "\n",
      "     4770  Total Bags  Small Bags  Large Bags  XLarge Bags          type  \\\n",
      "0   48.16     8696.87     8603.62       93.25          0.0  conventional   \n",
      "1   58.33     9505.56     9408.07       97.49          0.0  conventional   \n",
      "2  130.50     8145.35     8042.21      103.14          0.0  conventional   \n",
      "3   72.58     5811.16     5677.40      133.76          0.0  conventional   \n",
      "4   75.78     6183.95     5986.26      197.69          0.0  conventional   \n",
      "\n",
      "   year  region  \n",
      "0  2015  Albany  \n",
      "1  2015  Albany  \n",
      "2  2015  Albany  \n",
      "3  2015  Albany  \n",
      "4  2015  Albany  \n",
      "(18249, 14)\n",
      "Unnamed: 0      0\n",
      "Date            0\n",
      "AveragePrice    0\n",
      "Total Volume    0\n",
      "4046            0\n",
      "4225            0\n",
      "4770            0\n",
      "Total Bags      0\n",
      "Small Bags      0\n",
      "Large Bags      0\n",
      "XLarge Bags     0\n",
      "type            0\n",
      "year            0\n",
      "region          0\n",
      "dtype: int64\n",
      "Unnamed: 0        int64\n",
      "Date             object\n",
      "AveragePrice    float64\n",
      "Total Volume    float64\n",
      "4046            float64\n",
      "4225            float64\n",
      "4770            float64\n",
      "Total Bags      float64\n",
      "Small Bags      float64\n",
      "Large Bags      float64\n",
      "XLarge Bags     float64\n",
      "type             object\n",
      "year              int64\n",
      "region           object\n",
      "dtype: object\n",
      "Index(['Unnamed: 0', 'Date', 'AveragePrice', 'Total Volume', '4046', '4225',\n",
      "       '4770', 'Total Bags', 'Small Bags', 'Large Bags', 'XLarge Bags', 'type',\n",
      "       'year', 'region'],\n",
      "      dtype='object')\n",
      "['conventional' 'organic']\n"
     ]
    }
   ],
   "source": [
    "print(original.head())\n",
    "print(original.shape)\n",
    "print(original.isnull().sum())\n",
    "print(original.dtypes)\n",
    "print(original.columns)\n",
    "print(original['type'].unique())"
   ]
  },
  {
   "cell_type": "markdown",
   "metadata": {},
   "source": [
    "## Data Preprocessing"
   ]
  },
  {
   "cell_type": "code",
   "execution_count": 4,
   "metadata": {},
   "outputs": [],
   "source": [
    "original.drop(columns='Unnamed: 0',inplace=True)"
   ]
  },
  {
   "cell_type": "code",
   "execution_count": 5,
   "metadata": {},
   "outputs": [
    {
     "data": {
      "text/plain": [
       "Index(['Date', 'AveragePrice', 'Total Volume', '4046', '4225', '4770',\n",
       "       'Total Bags', 'Small Bags', 'Large Bags', 'XLarge Bags', 'type', 'year',\n",
       "       'region'],\n",
       "      dtype='object')"
      ]
     },
     "execution_count": 5,
     "metadata": {},
     "output_type": "execute_result"
    }
   ],
   "source": [
    "original.columns"
   ]
  },
  {
   "cell_type": "code",
   "execution_count": 6,
   "metadata": {},
   "outputs": [],
   "source": [
    "original['Date']=pd.to_datetime(original['Date'])"
   ]
  },
  {
   "cell_type": "code",
   "execution_count": 7,
   "metadata": {},
   "outputs": [
    {
     "data": {
      "text/plain": [
       "Date            datetime64[ns]\n",
       "AveragePrice           float64\n",
       "Total Volume           float64\n",
       "4046                   float64\n",
       "4225                   float64\n",
       "4770                   float64\n",
       "Total Bags             float64\n",
       "Small Bags             float64\n",
       "Large Bags             float64\n",
       "XLarge Bags            float64\n",
       "type                    object\n",
       "year                     int64\n",
       "region                  object\n",
       "dtype: object"
      ]
     },
     "execution_count": 7,
     "metadata": {},
     "output_type": "execute_result"
    }
   ],
   "source": [
    "original.dtypes"
   ]
  },
  {
   "cell_type": "code",
   "execution_count": 8,
   "metadata": {},
   "outputs": [],
   "source": [
    "original['Month']=[i.month for i in original['Date']]"
   ]
  },
  {
   "cell_type": "code",
   "execution_count": 9,
   "metadata": {},
   "outputs": [
    {
     "data": {
      "text/html": [
       "<div>\n",
       "<style scoped>\n",
       "    .dataframe tbody tr th:only-of-type {\n",
       "        vertical-align: middle;\n",
       "    }\n",
       "\n",
       "    .dataframe tbody tr th {\n",
       "        vertical-align: top;\n",
       "    }\n",
       "\n",
       "    .dataframe thead th {\n",
       "        text-align: right;\n",
       "    }\n",
       "</style>\n",
       "<table border=\"1\" class=\"dataframe\">\n",
       "  <thead>\n",
       "    <tr style=\"text-align: right;\">\n",
       "      <th></th>\n",
       "      <th>Date</th>\n",
       "      <th>AveragePrice</th>\n",
       "      <th>Total Volume</th>\n",
       "      <th>4046</th>\n",
       "      <th>4225</th>\n",
       "      <th>4770</th>\n",
       "      <th>Total Bags</th>\n",
       "      <th>Small Bags</th>\n",
       "      <th>Large Bags</th>\n",
       "      <th>XLarge Bags</th>\n",
       "      <th>type</th>\n",
       "      <th>year</th>\n",
       "      <th>region</th>\n",
       "      <th>Month</th>\n",
       "    </tr>\n",
       "  </thead>\n",
       "  <tbody>\n",
       "    <tr>\n",
       "      <th>0</th>\n",
       "      <td>2015-12-27</td>\n",
       "      <td>1.33</td>\n",
       "      <td>64236.62</td>\n",
       "      <td>1036.74</td>\n",
       "      <td>54454.85</td>\n",
       "      <td>48.16</td>\n",
       "      <td>8696.87</td>\n",
       "      <td>8603.62</td>\n",
       "      <td>93.25</td>\n",
       "      <td>0.0</td>\n",
       "      <td>conventional</td>\n",
       "      <td>2015</td>\n",
       "      <td>Albany</td>\n",
       "      <td>12</td>\n",
       "    </tr>\n",
       "    <tr>\n",
       "      <th>1</th>\n",
       "      <td>2015-12-20</td>\n",
       "      <td>1.35</td>\n",
       "      <td>54876.98</td>\n",
       "      <td>674.28</td>\n",
       "      <td>44638.81</td>\n",
       "      <td>58.33</td>\n",
       "      <td>9505.56</td>\n",
       "      <td>9408.07</td>\n",
       "      <td>97.49</td>\n",
       "      <td>0.0</td>\n",
       "      <td>conventional</td>\n",
       "      <td>2015</td>\n",
       "      <td>Albany</td>\n",
       "      <td>12</td>\n",
       "    </tr>\n",
       "    <tr>\n",
       "      <th>2</th>\n",
       "      <td>2015-12-13</td>\n",
       "      <td>0.93</td>\n",
       "      <td>118220.22</td>\n",
       "      <td>794.70</td>\n",
       "      <td>109149.67</td>\n",
       "      <td>130.50</td>\n",
       "      <td>8145.35</td>\n",
       "      <td>8042.21</td>\n",
       "      <td>103.14</td>\n",
       "      <td>0.0</td>\n",
       "      <td>conventional</td>\n",
       "      <td>2015</td>\n",
       "      <td>Albany</td>\n",
       "      <td>12</td>\n",
       "    </tr>\n",
       "    <tr>\n",
       "      <th>3</th>\n",
       "      <td>2015-12-06</td>\n",
       "      <td>1.08</td>\n",
       "      <td>78992.15</td>\n",
       "      <td>1132.00</td>\n",
       "      <td>71976.41</td>\n",
       "      <td>72.58</td>\n",
       "      <td>5811.16</td>\n",
       "      <td>5677.40</td>\n",
       "      <td>133.76</td>\n",
       "      <td>0.0</td>\n",
       "      <td>conventional</td>\n",
       "      <td>2015</td>\n",
       "      <td>Albany</td>\n",
       "      <td>12</td>\n",
       "    </tr>\n",
       "    <tr>\n",
       "      <th>4</th>\n",
       "      <td>2015-11-29</td>\n",
       "      <td>1.28</td>\n",
       "      <td>51039.60</td>\n",
       "      <td>941.48</td>\n",
       "      <td>43838.39</td>\n",
       "      <td>75.78</td>\n",
       "      <td>6183.95</td>\n",
       "      <td>5986.26</td>\n",
       "      <td>197.69</td>\n",
       "      <td>0.0</td>\n",
       "      <td>conventional</td>\n",
       "      <td>2015</td>\n",
       "      <td>Albany</td>\n",
       "      <td>11</td>\n",
       "    </tr>\n",
       "  </tbody>\n",
       "</table>\n",
       "</div>"
      ],
      "text/plain": [
       "        Date  AveragePrice  Total Volume     4046       4225    4770  \\\n",
       "0 2015-12-27          1.33      64236.62  1036.74   54454.85   48.16   \n",
       "1 2015-12-20          1.35      54876.98   674.28   44638.81   58.33   \n",
       "2 2015-12-13          0.93     118220.22   794.70  109149.67  130.50   \n",
       "3 2015-12-06          1.08      78992.15  1132.00   71976.41   72.58   \n",
       "4 2015-11-29          1.28      51039.60   941.48   43838.39   75.78   \n",
       "\n",
       "   Total Bags  Small Bags  Large Bags  XLarge Bags          type  year  \\\n",
       "0     8696.87     8603.62       93.25          0.0  conventional  2015   \n",
       "1     9505.56     9408.07       97.49          0.0  conventional  2015   \n",
       "2     8145.35     8042.21      103.14          0.0  conventional  2015   \n",
       "3     5811.16     5677.40      133.76          0.0  conventional  2015   \n",
       "4     6183.95     5986.26      197.69          0.0  conventional  2015   \n",
       "\n",
       "   region  Month  \n",
       "0  Albany     12  \n",
       "1  Albany     12  \n",
       "2  Albany     12  \n",
       "3  Albany     12  \n",
       "4  Albany     11  "
      ]
     },
     "execution_count": 9,
     "metadata": {},
     "output_type": "execute_result"
    }
   ],
   "source": [
    "original.head()"
   ]
  },
  {
   "cell_type": "code",
   "execution_count": 10,
   "metadata": {},
   "outputs": [],
   "source": [
    "original['4046']=original['4046'].astype('str')\n",
    "original['4225']=original['4225'].astype('str')\n",
    "original['4770']=original['4770'].astype('str')"
   ]
  },
  {
   "cell_type": "markdown",
   "metadata": {},
   "source": [
    "## Question Defintion\n",
    "\n",
    "\n",
    "- Which year has the most number of bags?\n",
    "\n",
    "\n",
    "- What is the trend of Average price?\n",
    "\n",
    "\n",
    "- What is the percentage of different size bags of each year?\n",
    "\n",
    "\n",
    "- Can we predict the average price with this data?"
   ]
  },
  {
   "cell_type": "markdown",
   "metadata": {},
   "source": [
    "## Describe Statistics"
   ]
  },
  {
   "cell_type": "code",
   "execution_count": 11,
   "metadata": {},
   "outputs": [
    {
     "data": {
      "text/html": [
       "<div>\n",
       "<style scoped>\n",
       "    .dataframe tbody tr th:only-of-type {\n",
       "        vertical-align: middle;\n",
       "    }\n",
       "\n",
       "    .dataframe tbody tr th {\n",
       "        vertical-align: top;\n",
       "    }\n",
       "\n",
       "    .dataframe thead th {\n",
       "        text-align: right;\n",
       "    }\n",
       "</style>\n",
       "<table border=\"1\" class=\"dataframe\">\n",
       "  <thead>\n",
       "    <tr style=\"text-align: right;\">\n",
       "      <th></th>\n",
       "      <th>AveragePrice</th>\n",
       "      <th>Total Volume</th>\n",
       "      <th>Total Bags</th>\n",
       "      <th>Small Bags</th>\n",
       "      <th>Large Bags</th>\n",
       "      <th>XLarge Bags</th>\n",
       "      <th>year</th>\n",
       "      <th>Month</th>\n",
       "    </tr>\n",
       "  </thead>\n",
       "  <tbody>\n",
       "    <tr>\n",
       "      <th>count</th>\n",
       "      <td>18249.000000</td>\n",
       "      <td>1.824900e+04</td>\n",
       "      <td>1.824900e+04</td>\n",
       "      <td>1.824900e+04</td>\n",
       "      <td>1.824900e+04</td>\n",
       "      <td>18249.000000</td>\n",
       "      <td>18249.000000</td>\n",
       "      <td>18249.000000</td>\n",
       "    </tr>\n",
       "    <tr>\n",
       "      <th>mean</th>\n",
       "      <td>1.405978</td>\n",
       "      <td>8.506440e+05</td>\n",
       "      <td>2.396392e+05</td>\n",
       "      <td>1.821947e+05</td>\n",
       "      <td>5.433809e+04</td>\n",
       "      <td>3106.426507</td>\n",
       "      <td>2016.147899</td>\n",
       "      <td>6.177215</td>\n",
       "    </tr>\n",
       "    <tr>\n",
       "      <th>std</th>\n",
       "      <td>0.402677</td>\n",
       "      <td>3.453545e+06</td>\n",
       "      <td>9.862424e+05</td>\n",
       "      <td>7.461785e+05</td>\n",
       "      <td>2.439660e+05</td>\n",
       "      <td>17692.894652</td>\n",
       "      <td>0.939938</td>\n",
       "      <td>3.534130</td>\n",
       "    </tr>\n",
       "    <tr>\n",
       "      <th>min</th>\n",
       "      <td>0.440000</td>\n",
       "      <td>8.456000e+01</td>\n",
       "      <td>0.000000e+00</td>\n",
       "      <td>0.000000e+00</td>\n",
       "      <td>0.000000e+00</td>\n",
       "      <td>0.000000</td>\n",
       "      <td>2015.000000</td>\n",
       "      <td>1.000000</td>\n",
       "    </tr>\n",
       "    <tr>\n",
       "      <th>25%</th>\n",
       "      <td>1.100000</td>\n",
       "      <td>1.083858e+04</td>\n",
       "      <td>5.088640e+03</td>\n",
       "      <td>2.849420e+03</td>\n",
       "      <td>1.274700e+02</td>\n",
       "      <td>0.000000</td>\n",
       "      <td>2015.000000</td>\n",
       "      <td>3.000000</td>\n",
       "    </tr>\n",
       "    <tr>\n",
       "      <th>50%</th>\n",
       "      <td>1.370000</td>\n",
       "      <td>1.073768e+05</td>\n",
       "      <td>3.974383e+04</td>\n",
       "      <td>2.636282e+04</td>\n",
       "      <td>2.647710e+03</td>\n",
       "      <td>0.000000</td>\n",
       "      <td>2016.000000</td>\n",
       "      <td>6.000000</td>\n",
       "    </tr>\n",
       "    <tr>\n",
       "      <th>75%</th>\n",
       "      <td>1.660000</td>\n",
       "      <td>4.329623e+05</td>\n",
       "      <td>1.107834e+05</td>\n",
       "      <td>8.333767e+04</td>\n",
       "      <td>2.202925e+04</td>\n",
       "      <td>132.500000</td>\n",
       "      <td>2017.000000</td>\n",
       "      <td>9.000000</td>\n",
       "    </tr>\n",
       "    <tr>\n",
       "      <th>max</th>\n",
       "      <td>3.250000</td>\n",
       "      <td>6.250565e+07</td>\n",
       "      <td>1.937313e+07</td>\n",
       "      <td>1.338459e+07</td>\n",
       "      <td>5.719097e+06</td>\n",
       "      <td>551693.650000</td>\n",
       "      <td>2018.000000</td>\n",
       "      <td>12.000000</td>\n",
       "    </tr>\n",
       "  </tbody>\n",
       "</table>\n",
       "</div>"
      ],
      "text/plain": [
       "       AveragePrice  Total Volume    Total Bags    Small Bags    Large Bags  \\\n",
       "count  18249.000000  1.824900e+04  1.824900e+04  1.824900e+04  1.824900e+04   \n",
       "mean       1.405978  8.506440e+05  2.396392e+05  1.821947e+05  5.433809e+04   \n",
       "std        0.402677  3.453545e+06  9.862424e+05  7.461785e+05  2.439660e+05   \n",
       "min        0.440000  8.456000e+01  0.000000e+00  0.000000e+00  0.000000e+00   \n",
       "25%        1.100000  1.083858e+04  5.088640e+03  2.849420e+03  1.274700e+02   \n",
       "50%        1.370000  1.073768e+05  3.974383e+04  2.636282e+04  2.647710e+03   \n",
       "75%        1.660000  4.329623e+05  1.107834e+05  8.333767e+04  2.202925e+04   \n",
       "max        3.250000  6.250565e+07  1.937313e+07  1.338459e+07  5.719097e+06   \n",
       "\n",
       "         XLarge Bags          year         Month  \n",
       "count   18249.000000  18249.000000  18249.000000  \n",
       "mean     3106.426507   2016.147899      6.177215  \n",
       "std     17692.894652      0.939938      3.534130  \n",
       "min         0.000000   2015.000000      1.000000  \n",
       "25%         0.000000   2015.000000      3.000000  \n",
       "50%         0.000000   2016.000000      6.000000  \n",
       "75%       132.500000   2017.000000      9.000000  \n",
       "max    551693.650000   2018.000000     12.000000  "
      ]
     },
     "execution_count": 11,
     "metadata": {},
     "output_type": "execute_result"
    }
   ],
   "source": [
    "original.describe()"
   ]
  },
  {
   "cell_type": "code",
   "execution_count": 12,
   "metadata": {},
   "outputs": [],
   "source": [
    "def cv(data):\n",
    "    x=data.mean()\n",
    "    y=data.std()\n",
    "    coefficientofvariation=(round((y/x)*100,2))\n",
    "    return coefficientofvariation"
   ]
  },
  {
   "cell_type": "code",
   "execution_count": 13,
   "metadata": {},
   "outputs": [
    {
     "name": "stdout",
     "output_type": "stream",
     "text": [
      "AveragePrice cv:28.64%\n",
      "Total Volume cv:405.99%\n",
      "Total Bags cv:411.55%\n",
      "Small Bags cv:409.55%\n",
      "Large Bags cv:448.98%\n",
      "XLarge Bags cv:569.56%\n"
     ]
    }
   ],
   "source": [
    "print('AveragePrice cv:%1.2f%%'%(cv(original['AveragePrice'])))\n",
    "print('Total Volume cv:%1.2f%%'%(cv(original['Total Volume'])))\n",
    "print('Total Bags cv:%1.2f%%'%(cv(original['Total Bags'])))\n",
    "print('Small Bags cv:%1.2f%%'%(cv(original['Small Bags'])))\n",
    "print('Large Bags cv:%1.2f%%'%(cv(original['Large Bags'])))\n",
    "print('XLarge Bags cv:%1.2f%%'%(cv(original['XLarge Bags'])))"
   ]
  },
  {
   "cell_type": "code",
   "execution_count": 14,
   "metadata": {},
   "outputs": [
    {
     "name": "stdout",
     "output_type": "stream",
     "text": [
      "skewness\n",
      "=============================\n",
      "AveragePrice     0.580303\n",
      "Total Volume     9.007687\n",
      "Total Bags       9.756072\n",
      "Small Bags       9.540660\n",
      "Large Bags       9.796455\n",
      "XLarge Bags     13.139751\n",
      "year             0.215339\n",
      "Month            0.106617\n",
      "dtype: float64\n",
      "=============================\n",
      "kurtosis\n",
      "=============================\n",
      "AveragePrice      0.325196\n",
      "Total Volume     92.104458\n",
      "Total Bags      112.272156\n",
      "Small Bags      107.012885\n",
      "Large Bags      117.999481\n",
      "XLarge Bags     233.602612\n",
      "year             -1.032747\n",
      "Month            -1.265284\n",
      "dtype: float64\n",
      "=============================\n",
      "mode\n",
      "=============================\n",
      "average Price mode: 0    1.15\n",
      "dtype: float64\n",
      "Total Volume mode: 0       2038.99\n",
      "1       2858.31\n",
      "2       3288.85\n",
      "3       3529.44\n",
      "4       3713.49\n",
      "5       4103.97\n",
      "6       7223.46\n",
      "7       9465.99\n",
      "8      13234.04\n",
      "9      19634.24\n",
      "10     46602.16\n",
      "11    569349.05\n",
      "dtype: float64\n",
      "Total Bags mode: 0    0.0\n",
      "dtype: float64\n",
      "Small Bags mode: 0    0.0\n",
      "dtype: float64\n",
      "Large Bags mode: 0    0.0\n",
      "dtype: float64\n",
      "XLarge Bags mode: 0    0.0\n",
      "dtype: float64\n"
     ]
    }
   ],
   "source": [
    "x=['AveragePrice','Total Volume','Total Bags','Small Bags','Large Bags','XLarge Bags']\n",
    "print('skewness')\n",
    "print('=============================')\n",
    "print(original.skew())\n",
    "print('=============================')\n",
    "print('kurtosis')\n",
    "print('=============================')\n",
    "print(original.kurt())\n",
    "print('=============================')\n",
    "print('mode')\n",
    "print('=============================')\n",
    "print('average Price mode:',original['AveragePrice'].mode())\n",
    "print('Total Volume mode:',original['Total Volume'].mode())\n",
    "print('Total Bags mode:',original['Total Bags'].mode())\n",
    "print('Small Bags mode:',original['Small Bags'].mode())\n",
    "print('Large Bags mode:',original['Large Bags'].mode())\n",
    "print('XLarge Bags mode:',original['XLarge Bags'].mode())\n"
   ]
  },
  {
   "cell_type": "code",
   "execution_count": 15,
   "metadata": {
    "scrolled": false
   },
   "outputs": [
    {
     "data": {
      "image/png": "[encoded data removed]",
      "text/plain": [
       "<Figure size 1080x1008 with 6 Axes>"
      ]
     },
     "metadata": {
      "needs_background": "light"
     },
     "output_type": "display_data"
    }
   ],
   "source": [
    "z0=plt.figure(figsize=(15,14))\n",
    "for i in range(len(x)):\n",
    "    z0.add_subplot(3,3,i+1)\n",
    "    original[str(x[i])].plot(kind='kde',title='%s distribution plot'%x[i])\n",
    "else:\n",
    "    pass\n",
    "plt.savefig('./charts/distribution_plot.png')\n",
    "plt.show()"
   ]
  },
  {
   "cell_type": "markdown",
   "metadata": {},
   "source": [
    "## Summary\n",
    "\n",
    "- Mean of average Price is 1.4,mode is 1.15\n",
    "\n",
    "\n",
    "- Mode of total volume is not unique,\n",
    "\n",
    "  and mode of Xlarge Bags is 0,\n",
    "  \n",
    "  other data has no mode.\n",
    "\n",
    "\n",
    "- Coefficient of variation of data except average price is big,\n",
    "\n",
    "  and other data's coefficient of variation is over 100%,\n",
    "  \n",
    "  means other data is much more dispersive than average price.\n",
    "  \n",
    "\n",
    "\n",
    "- The skewness of average price is possitive distribution,\n",
    "\n",
    "  and the kurtosis of average price is platykurtic.\n",
    "  \n",
    "\n",
    "\n",
    "- The skewness values of other data is big,\n",
    "\n",
    "  which means other data's distribution has much more different from\n",
    "  \n",
    "  normal distribution.\n",
    "  \n",
    "  And skewness values are all possitive,which means all of data is \n",
    "  \n",
    "  possitive distribution.\n",
    "\n",
    "\n",
    "- The kurtosis of other data is leptokurtic.\n",
    "\n",
    "  "
   ]
  },
  {
   "cell_type": "markdown",
   "metadata": {},
   "source": [
    "## Bags\n",
    "\n",
    "Which year has the most number of bags?"
   ]
  },
  {
   "cell_type": "code",
   "execution_count": 16,
   "metadata": {},
   "outputs": [
    {
     "data": {
      "text/plain": [
       "year\n",
       "2015    7.721922e+08\n",
       "2016    1.463159e+09\n",
       "2017    1.646289e+09\n",
       "Name: Total Bags, dtype: float64"
      ]
     },
     "execution_count": 16,
     "metadata": {},
     "output_type": "execute_result"
    }
   ],
   "source": [
    "bagGroup=original.groupby(by='year')\n",
    "bagsum=bagGroup.sum()\n",
    "bagSum=pd.DataFrame(bagsum.loc[:,'Total Bags'])\n",
    "bagSum.iloc[0:3,0]"
   ]
  },
  {
   "cell_type": "code",
   "execution_count": 17,
   "metadata": {},
   "outputs": [
    {
     "data": {
      "image/png": "[encoded data removed]",
      "text/plain": [
       "<Figure size 1080x1008 with 1 Axes>"
      ]
     },
     "metadata": {
      "needs_background": "light"
     },
     "output_type": "display_data"
    }
   ],
   "source": [
    "z1=bagSum.iloc[0:3].plot.bar(figsize=(15,14),legend=False)\n",
    "z1.get_figure()\n",
    "x=np.arange(bagsum.index.shape[0]-1)\n",
    "y=np.array(bagSum.iloc[0:3,0])\n",
    "plt.title('2013-2017 total bags by year bar graph',fontsize='large')\n",
    "plt.ylabel('bags(hundred million)')\n",
    "plt.xticks(x,bagSum.index[0:3],rotation=0)\n",
    "for i,j in zip(x,y):\n",
    "    plt.text(i,j+10000000,format(round(j,2),','),color='blue',ha='center')\n",
    "else:\n",
    "    pass\n",
    "plt.savefig('./charts/bags_by_year_bar.png')\n",
    "plt.show()"
   ]
  },
  {
   "cell_type": "markdown",
   "metadata": {},
   "source": [
    "## Summary\n",
    "\n",
    "\n",
    "- 2017 has the most number of bags\n",
    "\n",
    "\n",
    "- 2018's data is not complete(below this,pricePivot has shown the 2018's data),\n",
    "\n",
    "  so show the bar graph without 2018.\n",
    "  \n",
    "  \n",
    "- Between 2015 and 2016,rising of numbers is large.\n",
    "\n",
    "\n",
    "- Number of total bags is growing."
   ]
  },
  {
   "cell_type": "markdown",
   "metadata": {},
   "source": [
    "## Price\n",
    "\n",
    "What is the trend of Average price?"
   ]
  },
  {
   "cell_type": "code",
   "execution_count": 18,
   "metadata": {},
   "outputs": [
    {
     "data": {
      "text/html": [
       "<div>\n",
       "<style scoped>\n",
       "    .dataframe tbody tr th:only-of-type {\n",
       "        vertical-align: middle;\n",
       "    }\n",
       "\n",
       "    .dataframe tbody tr th {\n",
       "        vertical-align: top;\n",
       "    }\n",
       "\n",
       "    .dataframe thead th {\n",
       "        text-align: right;\n",
       "    }\n",
       "</style>\n",
       "<table border=\"1\" class=\"dataframe\">\n",
       "  <thead>\n",
       "    <tr style=\"text-align: right;\">\n",
       "      <th>Month</th>\n",
       "      <th>1</th>\n",
       "      <th>2</th>\n",
       "      <th>3</th>\n",
       "      <th>4</th>\n",
       "      <th>5</th>\n",
       "      <th>6</th>\n",
       "      <th>7</th>\n",
       "      <th>8</th>\n",
       "      <th>9</th>\n",
       "      <th>10</th>\n",
       "      <th>11</th>\n",
       "      <th>12</th>\n",
       "    </tr>\n",
       "    <tr>\n",
       "      <th>year</th>\n",
       "      <th></th>\n",
       "      <th></th>\n",
       "      <th></th>\n",
       "      <th></th>\n",
       "      <th></th>\n",
       "      <th></th>\n",
       "      <th></th>\n",
       "      <th></th>\n",
       "      <th></th>\n",
       "      <th></th>\n",
       "      <th></th>\n",
       "      <th></th>\n",
       "    </tr>\n",
       "  </thead>\n",
       "  <tbody>\n",
       "    <tr>\n",
       "      <th>2015</th>\n",
       "      <td>1.365046</td>\n",
       "      <td>1.326944</td>\n",
       "      <td>1.361981</td>\n",
       "      <td>1.383449</td>\n",
       "      <td>1.344685</td>\n",
       "      <td>1.399074</td>\n",
       "      <td>1.409444</td>\n",
       "      <td>1.444481</td>\n",
       "      <td>1.449144</td>\n",
       "      <td>1.391968</td>\n",
       "      <td>1.330611</td>\n",
       "      <td>1.305244</td>\n",
       "    </tr>\n",
       "    <tr>\n",
       "      <th>2016</th>\n",
       "      <td>1.240185</td>\n",
       "      <td>1.237106</td>\n",
       "      <td>1.224213</td>\n",
       "      <td>1.205023</td>\n",
       "      <td>1.199722</td>\n",
       "      <td>1.283056</td>\n",
       "      <td>1.401333</td>\n",
       "      <td>1.411111</td>\n",
       "      <td>1.427870</td>\n",
       "      <td>1.557093</td>\n",
       "      <td>1.550023</td>\n",
       "      <td>1.315995</td>\n",
       "    </tr>\n",
       "    <tr>\n",
       "      <th>2017</th>\n",
       "      <td>1.277500</td>\n",
       "      <td>1.214792</td>\n",
       "      <td>1.398935</td>\n",
       "      <td>1.502611</td>\n",
       "      <td>1.532593</td>\n",
       "      <td>1.545395</td>\n",
       "      <td>1.564926</td>\n",
       "      <td>1.698958</td>\n",
       "      <td>1.840949</td>\n",
       "      <td>1.752444</td>\n",
       "      <td>1.517292</td>\n",
       "      <td>1.363852</td>\n",
       "    </tr>\n",
       "    <tr>\n",
       "      <th>2018</th>\n",
       "      <td>1.387431</td>\n",
       "      <td>1.318704</td>\n",
       "      <td>1.336458</td>\n",
       "      <td>NaN</td>\n",
       "      <td>NaN</td>\n",
       "      <td>NaN</td>\n",
       "      <td>NaN</td>\n",
       "      <td>NaN</td>\n",
       "      <td>NaN</td>\n",
       "      <td>NaN</td>\n",
       "      <td>NaN</td>\n",
       "      <td>NaN</td>\n",
       "    </tr>\n",
       "  </tbody>\n",
       "</table>\n",
       "</div>"
      ],
      "text/plain": [
       "Month        1         2         3         4         5         6         7   \\\n",
       "year                                                                          \n",
       "2015   1.365046  1.326944  1.361981  1.383449  1.344685  1.399074  1.409444   \n",
       "2016   1.240185  1.237106  1.224213  1.205023  1.199722  1.283056  1.401333   \n",
       "2017   1.277500  1.214792  1.398935  1.502611  1.532593  1.545395  1.564926   \n",
       "2018   1.387431  1.318704  1.336458       NaN       NaN       NaN       NaN   \n",
       "\n",
       "Month        8         9         10        11        12  \n",
       "year                                                     \n",
       "2015   1.444481  1.449144  1.391968  1.330611  1.305244  \n",
       "2016   1.411111  1.427870  1.557093  1.550023  1.315995  \n",
       "2017   1.698958  1.840949  1.752444  1.517292  1.363852  \n",
       "2018        NaN       NaN       NaN       NaN       NaN  "
      ]
     },
     "execution_count": 18,
     "metadata": {},
     "output_type": "execute_result"
    }
   ],
   "source": [
    "pricePivot=pd.pivot_table(original,index='year',columns='Month',values='AveragePrice',aggfunc=np.mean)\n",
    "pricePivot"
   ]
  },
  {
   "cell_type": "code",
   "execution_count": 19,
   "metadata": {},
   "outputs": [],
   "source": [
    "pricePivot.index=pricePivot.index.astype('str')\n",
    "pricePivot=pricePivot.drop(index='2018')"
   ]
  },
  {
   "cell_type": "code",
   "execution_count": 20,
   "metadata": {},
   "outputs": [
    {
     "data": {
      "text/html": [
       "<div>\n",
       "<style scoped>\n",
       "    .dataframe tbody tr th:only-of-type {\n",
       "        vertical-align: middle;\n",
       "    }\n",
       "\n",
       "    .dataframe tbody tr th {\n",
       "        vertical-align: top;\n",
       "    }\n",
       "\n",
       "    .dataframe thead th {\n",
       "        text-align: right;\n",
       "    }\n",
       "</style>\n",
       "<table border=\"1\" class=\"dataframe\">\n",
       "  <thead>\n",
       "    <tr style=\"text-align: right;\">\n",
       "      <th>Month</th>\n",
       "      <th>1</th>\n",
       "      <th>2</th>\n",
       "      <th>3</th>\n",
       "      <th>4</th>\n",
       "      <th>5</th>\n",
       "      <th>6</th>\n",
       "      <th>7</th>\n",
       "      <th>8</th>\n",
       "      <th>9</th>\n",
       "      <th>10</th>\n",
       "      <th>11</th>\n",
       "      <th>12</th>\n",
       "    </tr>\n",
       "    <tr>\n",
       "      <th>year</th>\n",
       "      <th></th>\n",
       "      <th></th>\n",
       "      <th></th>\n",
       "      <th></th>\n",
       "      <th></th>\n",
       "      <th></th>\n",
       "      <th></th>\n",
       "      <th></th>\n",
       "      <th></th>\n",
       "      <th></th>\n",
       "      <th></th>\n",
       "      <th></th>\n",
       "    </tr>\n",
       "  </thead>\n",
       "  <tbody>\n",
       "    <tr>\n",
       "      <th>2015</th>\n",
       "      <td>1.365046</td>\n",
       "      <td>1.326944</td>\n",
       "      <td>1.361981</td>\n",
       "      <td>1.383449</td>\n",
       "      <td>1.344685</td>\n",
       "      <td>1.399074</td>\n",
       "      <td>1.409444</td>\n",
       "      <td>1.444481</td>\n",
       "      <td>1.449144</td>\n",
       "      <td>1.391968</td>\n",
       "      <td>1.330611</td>\n",
       "      <td>1.305244</td>\n",
       "    </tr>\n",
       "    <tr>\n",
       "      <th>2016</th>\n",
       "      <td>1.240185</td>\n",
       "      <td>1.237106</td>\n",
       "      <td>1.224213</td>\n",
       "      <td>1.205023</td>\n",
       "      <td>1.199722</td>\n",
       "      <td>1.283056</td>\n",
       "      <td>1.401333</td>\n",
       "      <td>1.411111</td>\n",
       "      <td>1.427870</td>\n",
       "      <td>1.557093</td>\n",
       "      <td>1.550023</td>\n",
       "      <td>1.315995</td>\n",
       "    </tr>\n",
       "    <tr>\n",
       "      <th>2017</th>\n",
       "      <td>1.277500</td>\n",
       "      <td>1.214792</td>\n",
       "      <td>1.398935</td>\n",
       "      <td>1.502611</td>\n",
       "      <td>1.532593</td>\n",
       "      <td>1.545395</td>\n",
       "      <td>1.564926</td>\n",
       "      <td>1.698958</td>\n",
       "      <td>1.840949</td>\n",
       "      <td>1.752444</td>\n",
       "      <td>1.517292</td>\n",
       "      <td>1.363852</td>\n",
       "    </tr>\n",
       "  </tbody>\n",
       "</table>\n",
       "</div>"
      ],
      "text/plain": [
       "Month        1         2         3         4         5         6         7   \\\n",
       "year                                                                          \n",
       "2015   1.365046  1.326944  1.361981  1.383449  1.344685  1.399074  1.409444   \n",
       "2016   1.240185  1.237106  1.224213  1.205023  1.199722  1.283056  1.401333   \n",
       "2017   1.277500  1.214792  1.398935  1.502611  1.532593  1.545395  1.564926   \n",
       "\n",
       "Month        8         9         10        11        12  \n",
       "year                                                     \n",
       "2015   1.444481  1.449144  1.391968  1.330611  1.305244  \n",
       "2016   1.411111  1.427870  1.557093  1.550023  1.315995  \n",
       "2017   1.698958  1.840949  1.752444  1.517292  1.363852  "
      ]
     },
     "execution_count": 20,
     "metadata": {},
     "output_type": "execute_result"
    }
   ],
   "source": [
    "pricePivot"
   ]
  },
  {
   "cell_type": "code",
   "execution_count": 21,
   "metadata": {},
   "outputs": [
    {
     "data": {
      "image/png": "[encoded data removed]",
      "text/plain": [
       "<Figure size 1800x720 with 1 Axes>"
      ]
     },
     "metadata": {
      "needs_background": "light"
     },
     "output_type": "display_data"
    }
   ],
   "source": [
    "z2=plt.figure(figsize=(25,10))\n",
    "y=np.array(list([pricePivot.iloc[0,:],pricePivot.iloc[1,:],pricePivot.iloc[2,:]]))\n",
    "y=y.reshape((36,1))\n",
    "plt.plot(y,linestyle='--',marker='o')\n",
    "year1=np.array(['2015','2016','2017'])\n",
    "month1=np.array([str(i) for i in range(1,13)])\n",
    "yearmonth=[]\n",
    "for i in range(3):\n",
    "    for j in range(12):\n",
    "        yearmonth.append(year1[i]+'/'+month1[j])\n",
    "    else:\n",
    "        pass\n",
    "else:\n",
    "    pass\n",
    "x=np.arange(36)\n",
    "for i,j in zip(x,y):\n",
    "    plt.text(i,j+0.005,'%1.2f'%j,ha='center')\n",
    "else:\n",
    "    pass\n",
    "plt.xticks(range(len(yearmonth)),yearmonth,rotation=45)\n",
    "plt.title('2015-2017 average price plot',fontsize='large')\n",
    "plt.savefig('./charts/2015_2017_price_plot.png')\n",
    "plt.show()"
   ]
  },
  {
   "cell_type": "markdown",
   "metadata": {},
   "source": [
    "## Summary\n",
    "\n",
    "- The average price of each month seems to be cyclical\n",
    "\n",
    "\n",
    "- 2015's average price is smooth,and 2017's average price has much more fluctuation\n",
    "\n",
    "\n",
    "- December~May's average price is normally low,and rising after this section\n",
    "\n",
    "\n",
    "- 2017/9 has the highest price,but declining after this month\n",
    "\n",
    "\n",
    "- Winter's average price is normally low,\n",
    "\n",
    "  and autumn's average price is normally high.\n",
    "\n",
    "\n",
    "- 2016/5 has the lowest price,but rising after this month.\n",
    "\n",
    "\n",
    "- 2017's average price is normally higher than other year."
   ]
  },
  {
   "cell_type": "markdown",
   "metadata": {},
   "source": [
    "## Percentage of different size bags\n",
    "\n",
    "What is the percentage of different size bags of each year?"
   ]
  },
  {
   "cell_type": "code",
   "execution_count": 22,
   "metadata": {},
   "outputs": [
    {
     "data": {
      "text/html": [
       "<div>\n",
       "<style scoped>\n",
       "    .dataframe tbody tr th:only-of-type {\n",
       "        vertical-align: middle;\n",
       "    }\n",
       "\n",
       "    .dataframe tbody tr th {\n",
       "        vertical-align: top;\n",
       "    }\n",
       "\n",
       "    .dataframe thead th {\n",
       "        text-align: right;\n",
       "    }\n",
       "</style>\n",
       "<table border=\"1\" class=\"dataframe\">\n",
       "  <thead>\n",
       "    <tr style=\"text-align: right;\">\n",
       "      <th></th>\n",
       "      <th>Small Bags</th>\n",
       "      <th>Large Bags</th>\n",
       "      <th>XLarge Bags</th>\n",
       "    </tr>\n",
       "    <tr>\n",
       "      <th>year</th>\n",
       "      <th></th>\n",
       "      <th></th>\n",
       "      <th></th>\n",
       "    </tr>\n",
       "  </thead>\n",
       "  <tbody>\n",
       "    <tr>\n",
       "      <th>2015</th>\n",
       "      <td>6.346827e+08</td>\n",
       "      <td>1.320664e+08</td>\n",
       "      <td>5443128.28</td>\n",
       "    </tr>\n",
       "    <tr>\n",
       "      <th>2016</th>\n",
       "      <td>1.106494e+09</td>\n",
       "      <td>3.366263e+08</td>\n",
       "      <td>20038284.84</td>\n",
       "    </tr>\n",
       "    <tr>\n",
       "      <th>2017</th>\n",
       "      <td>1.222953e+09</td>\n",
       "      <td>3.993390e+08</td>\n",
       "      <td>23997172.34</td>\n",
       "    </tr>\n",
       "    <tr>\n",
       "      <th>2018</th>\n",
       "      <td>3.607414e+08</td>\n",
       "      <td>1.235840e+08</td>\n",
       "      <td>7210591.87</td>\n",
       "    </tr>\n",
       "  </tbody>\n",
       "</table>\n",
       "</div>"
      ],
      "text/plain": [
       "        Small Bags    Large Bags  XLarge Bags\n",
       "year                                         \n",
       "2015  6.346827e+08  1.320664e+08   5443128.28\n",
       "2016  1.106494e+09  3.366263e+08  20038284.84\n",
       "2017  1.222953e+09  3.993390e+08  23997172.34\n",
       "2018  3.607414e+08  1.235840e+08   7210591.87"
      ]
     },
     "execution_count": 22,
     "metadata": {},
     "output_type": "execute_result"
    }
   ],
   "source": [
    "DbagSum=bagsum.loc[:,['Small Bags','Large Bags','XLarge Bags']]\n",
    "DbagSum"
   ]
  },
  {
   "cell_type": "code",
   "execution_count": 23,
   "metadata": {},
   "outputs": [
    {
     "data": {
      "image/png": "[encoded data removed]",
      "text/plain": [
       "<Figure size 1080x1008 with 4 Axes>"
      ]
     },
     "metadata": {},
     "output_type": "display_data"
    }
   ],
   "source": [
    "z3=plt.figure(figsize=(15,14))\n",
    "labels=DbagSum.columns\n",
    "explode=[0.0,0.0,0.0]\n",
    "for i in range(DbagSum.index.shape[0]):\n",
    "    z3.add_subplot(2,2,i+1)\n",
    "    plt.title('%s Avocade bags pie chart'%DbagSum.index[i])\n",
    "    plt.pie(DbagSum.iloc[i,:],labels=labels,explode=explode,autopct='%1.2f%%')\n",
    "else:\n",
    "    pass\n",
    "z3.savefig('./charts/bags_percentage_pie_chart.png')\n",
    "plt.show()"
   ]
  },
  {
   "cell_type": "markdown",
   "metadata": {},
   "source": [
    "## Summary\n",
    "\n",
    "- Percentage of different size bags\n",
    "\n",
    "Year | Bag Size | Percentage |\n",
    "----- | -------- | ------------ |\n",
    "2015 | Small Bags | 82.19% |\n",
    "     | Large Bags | 17.10% |\n",
    "     | XLarge Bags | 0.7% |\n",
    "2016 | Small Bags | 75.62% |\n",
    "     | Large Bags | 23.01% |\n",
    "     | XLarge Bags | 1.37% |\n",
    "2017 | Small Bags | 74.29% |\n",
    "     | Large Bags | 24.26% |\n",
    "     | XLarge Bags | 1.46% |\n",
    "2018 | Small Bags | 73.39% |\n",
    "     | Large Bags | 25.14% |\n",
    "     | XLarge Bags | 1.47% |\n",
    "  \n",
    "  \n",
    "- The percentage of small bags is decreasing\n",
    "\n",
    "\n",
    "- The percentage of large bags is increasing fast\n",
    "\n",
    "\n",
    "- The percentage of XLarge bags is increasing\n",
    "\n",
    "\n",
    "- Between 2015 and 2016,the percentage of XLarge bags suddenly increase.\n"
   ]
  },
  {
   "cell_type": "markdown",
   "metadata": {},
   "source": [
    "## Predict"
   ]
  },
  {
   "cell_type": "markdown",
   "metadata": {},
   "source": [
    "## Data preprocessing"
   ]
  },
  {
   "cell_type": "code",
   "execution_count": 24,
   "metadata": {},
   "outputs": [
    {
     "data": {
      "text/html": [
       "<div>\n",
       "<style scoped>\n",
       "    .dataframe tbody tr th:only-of-type {\n",
       "        vertical-align: middle;\n",
       "    }\n",
       "\n",
       "    .dataframe tbody tr th {\n",
       "        vertical-align: top;\n",
       "    }\n",
       "\n",
       "    .dataframe thead th {\n",
       "        text-align: right;\n",
       "    }\n",
       "</style>\n",
       "<table border=\"1\" class=\"dataframe\">\n",
       "  <thead>\n",
       "    <tr style=\"text-align: right;\">\n",
       "      <th></th>\n",
       "      <th>Date</th>\n",
       "      <th>AveragePrice</th>\n",
       "      <th>Total Volume</th>\n",
       "      <th>4046</th>\n",
       "      <th>4225</th>\n",
       "      <th>4770</th>\n",
       "      <th>Total Bags</th>\n",
       "      <th>Small Bags</th>\n",
       "      <th>Large Bags</th>\n",
       "      <th>XLarge Bags</th>\n",
       "      <th>type</th>\n",
       "      <th>year</th>\n",
       "      <th>region</th>\n",
       "      <th>Month</th>\n",
       "    </tr>\n",
       "  </thead>\n",
       "  <tbody>\n",
       "    <tr>\n",
       "      <th>0</th>\n",
       "      <td>2015-12-27</td>\n",
       "      <td>1.33</td>\n",
       "      <td>64236.62</td>\n",
       "      <td>1036.74</td>\n",
       "      <td>54454.85</td>\n",
       "      <td>48.16</td>\n",
       "      <td>8696.87</td>\n",
       "      <td>8603.62</td>\n",
       "      <td>93.25</td>\n",
       "      <td>0.0</td>\n",
       "      <td>conventional</td>\n",
       "      <td>2015</td>\n",
       "      <td>Albany</td>\n",
       "      <td>12</td>\n",
       "    </tr>\n",
       "    <tr>\n",
       "      <th>1</th>\n",
       "      <td>2015-12-20</td>\n",
       "      <td>1.35</td>\n",
       "      <td>54876.98</td>\n",
       "      <td>674.28</td>\n",
       "      <td>44638.81</td>\n",
       "      <td>58.33</td>\n",
       "      <td>9505.56</td>\n",
       "      <td>9408.07</td>\n",
       "      <td>97.49</td>\n",
       "      <td>0.0</td>\n",
       "      <td>conventional</td>\n",
       "      <td>2015</td>\n",
       "      <td>Albany</td>\n",
       "      <td>12</td>\n",
       "    </tr>\n",
       "    <tr>\n",
       "      <th>2</th>\n",
       "      <td>2015-12-13</td>\n",
       "      <td>0.93</td>\n",
       "      <td>118220.22</td>\n",
       "      <td>794.7</td>\n",
       "      <td>109149.67</td>\n",
       "      <td>130.5</td>\n",
       "      <td>8145.35</td>\n",
       "      <td>8042.21</td>\n",
       "      <td>103.14</td>\n",
       "      <td>0.0</td>\n",
       "      <td>conventional</td>\n",
       "      <td>2015</td>\n",
       "      <td>Albany</td>\n",
       "      <td>12</td>\n",
       "    </tr>\n",
       "    <tr>\n",
       "      <th>3</th>\n",
       "      <td>2015-12-06</td>\n",
       "      <td>1.08</td>\n",
       "      <td>78992.15</td>\n",
       "      <td>1132.0</td>\n",
       "      <td>71976.41</td>\n",
       "      <td>72.58</td>\n",
       "      <td>5811.16</td>\n",
       "      <td>5677.40</td>\n",
       "      <td>133.76</td>\n",
       "      <td>0.0</td>\n",
       "      <td>conventional</td>\n",
       "      <td>2015</td>\n",
       "      <td>Albany</td>\n",
       "      <td>12</td>\n",
       "    </tr>\n",
       "    <tr>\n",
       "      <th>4</th>\n",
       "      <td>2015-11-29</td>\n",
       "      <td>1.28</td>\n",
       "      <td>51039.60</td>\n",
       "      <td>941.48</td>\n",
       "      <td>43838.39</td>\n",
       "      <td>75.78</td>\n",
       "      <td>6183.95</td>\n",
       "      <td>5986.26</td>\n",
       "      <td>197.69</td>\n",
       "      <td>0.0</td>\n",
       "      <td>conventional</td>\n",
       "      <td>2015</td>\n",
       "      <td>Albany</td>\n",
       "      <td>11</td>\n",
       "    </tr>\n",
       "  </tbody>\n",
       "</table>\n",
       "</div>"
      ],
      "text/plain": [
       "        Date  AveragePrice  Total Volume     4046       4225   4770  \\\n",
       "0 2015-12-27          1.33      64236.62  1036.74   54454.85  48.16   \n",
       "1 2015-12-20          1.35      54876.98   674.28   44638.81  58.33   \n",
       "2 2015-12-13          0.93     118220.22    794.7  109149.67  130.5   \n",
       "3 2015-12-06          1.08      78992.15   1132.0   71976.41  72.58   \n",
       "4 2015-11-29          1.28      51039.60   941.48   43838.39  75.78   \n",
       "\n",
       "   Total Bags  Small Bags  Large Bags  XLarge Bags          type  year  \\\n",
       "0     8696.87     8603.62       93.25          0.0  conventional  2015   \n",
       "1     9505.56     9408.07       97.49          0.0  conventional  2015   \n",
       "2     8145.35     8042.21      103.14          0.0  conventional  2015   \n",
       "3     5811.16     5677.40      133.76          0.0  conventional  2015   \n",
       "4     6183.95     5986.26      197.69          0.0  conventional  2015   \n",
       "\n",
       "   region  Month  \n",
       "0  Albany     12  \n",
       "1  Albany     12  \n",
       "2  Albany     12  \n",
       "3  Albany     12  \n",
       "4  Albany     11  "
      ]
     },
     "execution_count": 24,
     "metadata": {},
     "output_type": "execute_result"
    }
   ],
   "source": [
    "original.head()"
   ]
  },
  {
   "cell_type": "code",
   "execution_count": 25,
   "metadata": {},
   "outputs": [],
   "source": [
    "data=original.loc[:,['AveragePrice','4046','4225','4770','type','region']]"
   ]
  },
  {
   "cell_type": "code",
   "execution_count": 26,
   "metadata": {},
   "outputs": [
    {
     "data": {
      "text/html": [
       "<div>\n",
       "<style scoped>\n",
       "    .dataframe tbody tr th:only-of-type {\n",
       "        vertical-align: middle;\n",
       "    }\n",
       "\n",
       "    .dataframe tbody tr th {\n",
       "        vertical-align: top;\n",
       "    }\n",
       "\n",
       "    .dataframe thead th {\n",
       "        text-align: right;\n",
       "    }\n",
       "</style>\n",
       "<table border=\"1\" class=\"dataframe\">\n",
       "  <thead>\n",
       "    <tr style=\"text-align: right;\">\n",
       "      <th></th>\n",
       "      <th>AveragePrice</th>\n",
       "      <th>4046</th>\n",
       "      <th>4225</th>\n",
       "      <th>4770</th>\n",
       "      <th>type</th>\n",
       "      <th>region</th>\n",
       "    </tr>\n",
       "  </thead>\n",
       "  <tbody>\n",
       "    <tr>\n",
       "      <th>0</th>\n",
       "      <td>1.33</td>\n",
       "      <td>1036.74</td>\n",
       "      <td>54454.85</td>\n",
       "      <td>48.16</td>\n",
       "      <td>conventional</td>\n",
       "      <td>Albany</td>\n",
       "    </tr>\n",
       "    <tr>\n",
       "      <th>1</th>\n",
       "      <td>1.35</td>\n",
       "      <td>674.28</td>\n",
       "      <td>44638.81</td>\n",
       "      <td>58.33</td>\n",
       "      <td>conventional</td>\n",
       "      <td>Albany</td>\n",
       "    </tr>\n",
       "    <tr>\n",
       "      <th>2</th>\n",
       "      <td>0.93</td>\n",
       "      <td>794.7</td>\n",
       "      <td>109149.67</td>\n",
       "      <td>130.5</td>\n",
       "      <td>conventional</td>\n",
       "      <td>Albany</td>\n",
       "    </tr>\n",
       "    <tr>\n",
       "      <th>3</th>\n",
       "      <td>1.08</td>\n",
       "      <td>1132.0</td>\n",
       "      <td>71976.41</td>\n",
       "      <td>72.58</td>\n",
       "      <td>conventional</td>\n",
       "      <td>Albany</td>\n",
       "    </tr>\n",
       "    <tr>\n",
       "      <th>4</th>\n",
       "      <td>1.28</td>\n",
       "      <td>941.48</td>\n",
       "      <td>43838.39</td>\n",
       "      <td>75.78</td>\n",
       "      <td>conventional</td>\n",
       "      <td>Albany</td>\n",
       "    </tr>\n",
       "  </tbody>\n",
       "</table>\n",
       "</div>"
      ],
      "text/plain": [
       "   AveragePrice     4046       4225   4770          type  region\n",
       "0          1.33  1036.74   54454.85  48.16  conventional  Albany\n",
       "1          1.35   674.28   44638.81  58.33  conventional  Albany\n",
       "2          0.93    794.7  109149.67  130.5  conventional  Albany\n",
       "3          1.08   1132.0   71976.41  72.58  conventional  Albany\n",
       "4          1.28   941.48   43838.39  75.78  conventional  Albany"
      ]
     },
     "execution_count": 26,
     "metadata": {},
     "output_type": "execute_result"
    }
   ],
   "source": [
    "data.head()"
   ]
  },
  {
   "cell_type": "code",
   "execution_count": 27,
   "metadata": {},
   "outputs": [
    {
     "name": "stdout",
     "output_type": "stream",
     "text": [
      "['conventional' 'organic']\n",
      "['Albany' 'Atlanta' 'BaltimoreWashington' 'Boise' 'Boston'\n",
      " 'BuffaloRochester' 'California' 'Charlotte' 'Chicago' 'CincinnatiDayton'\n",
      " 'Columbus' 'DallasFtWorth' 'Denver' 'Detroit' 'GrandRapids' 'GreatLakes'\n",
      " 'HarrisburgScranton' 'HartfordSpringfield' 'Houston' 'Indianapolis'\n",
      " 'Jacksonville' 'LasVegas' 'LosAngeles' 'Louisville' 'MiamiFtLauderdale'\n",
      " 'Midsouth' 'Nashville' 'NewOrleansMobile' 'NewYork' 'Northeast'\n",
      " 'NorthernNewEngland' 'Orlando' 'Philadelphia' 'PhoenixTucson'\n",
      " 'Pittsburgh' 'Plains' 'Portland' 'RaleighGreensboro' 'RichmondNorfolk'\n",
      " 'Roanoke' 'Sacramento' 'SanDiego' 'SanFrancisco' 'Seattle'\n",
      " 'SouthCarolina' 'SouthCentral' 'Southeast' 'Spokane' 'StLouis' 'Syracuse'\n",
      " 'Tampa' 'TotalUS' 'West' 'WestTexNewMexico']\n"
     ]
    }
   ],
   "source": [
    "print(data['type'].unique())\n",
    "print(data['region'].unique())"
   ]
  },
  {
   "cell_type": "code",
   "execution_count": 28,
   "metadata": {},
   "outputs": [],
   "source": [
    "for i in range(data.index.shape[0]):\n",
    "    if data.loc[i,'type']=='conventional':\n",
    "        data.loc[i,'type']=0\n",
    "    else:\n",
    "        data.loc[i,'type']=1"
   ]
  },
  {
   "cell_type": "code",
   "execution_count": 29,
   "metadata": {},
   "outputs": [
    {
     "data": {
      "text/html": [
       "<div>\n",
       "<style scoped>\n",
       "    .dataframe tbody tr th:only-of-type {\n",
       "        vertical-align: middle;\n",
       "    }\n",
       "\n",
       "    .dataframe tbody tr th {\n",
       "        vertical-align: top;\n",
       "    }\n",
       "\n",
       "    .dataframe thead th {\n",
       "        text-align: right;\n",
       "    }\n",
       "</style>\n",
       "<table border=\"1\" class=\"dataframe\">\n",
       "  <thead>\n",
       "    <tr style=\"text-align: right;\">\n",
       "      <th></th>\n",
       "      <th>AveragePrice</th>\n",
       "      <th>4046</th>\n",
       "      <th>4225</th>\n",
       "      <th>4770</th>\n",
       "      <th>type</th>\n",
       "      <th>region</th>\n",
       "    </tr>\n",
       "  </thead>\n",
       "  <tbody>\n",
       "    <tr>\n",
       "      <th>0</th>\n",
       "      <td>1.33</td>\n",
       "      <td>1036.74</td>\n",
       "      <td>54454.85</td>\n",
       "      <td>48.16</td>\n",
       "      <td>0</td>\n",
       "      <td>Albany</td>\n",
       "    </tr>\n",
       "    <tr>\n",
       "      <th>1</th>\n",
       "      <td>1.35</td>\n",
       "      <td>674.28</td>\n",
       "      <td>44638.81</td>\n",
       "      <td>58.33</td>\n",
       "      <td>0</td>\n",
       "      <td>Albany</td>\n",
       "    </tr>\n",
       "    <tr>\n",
       "      <th>2</th>\n",
       "      <td>0.93</td>\n",
       "      <td>794.7</td>\n",
       "      <td>109149.67</td>\n",
       "      <td>130.5</td>\n",
       "      <td>0</td>\n",
       "      <td>Albany</td>\n",
       "    </tr>\n",
       "    <tr>\n",
       "      <th>3</th>\n",
       "      <td>1.08</td>\n",
       "      <td>1132.0</td>\n",
       "      <td>71976.41</td>\n",
       "      <td>72.58</td>\n",
       "      <td>0</td>\n",
       "      <td>Albany</td>\n",
       "    </tr>\n",
       "    <tr>\n",
       "      <th>4</th>\n",
       "      <td>1.28</td>\n",
       "      <td>941.48</td>\n",
       "      <td>43838.39</td>\n",
       "      <td>75.78</td>\n",
       "      <td>0</td>\n",
       "      <td>Albany</td>\n",
       "    </tr>\n",
       "  </tbody>\n",
       "</table>\n",
       "</div>"
      ],
      "text/plain": [
       "   AveragePrice     4046       4225   4770  type  region\n",
       "0          1.33  1036.74   54454.85  48.16     0  Albany\n",
       "1          1.35   674.28   44638.81  58.33     0  Albany\n",
       "2          0.93    794.7  109149.67  130.5     0  Albany\n",
       "3          1.08   1132.0   71976.41  72.58     0  Albany\n",
       "4          1.28   941.48   43838.39  75.78     0  Albany"
      ]
     },
     "execution_count": 29,
     "metadata": {},
     "output_type": "execute_result"
    }
   ],
   "source": [
    "data.head()"
   ]
  },
  {
   "cell_type": "code",
   "execution_count": 30,
   "metadata": {},
   "outputs": [],
   "source": [
    "data['region']=LabelEncoder().fit_transform(data['region'])"
   ]
  },
  {
   "cell_type": "code",
   "execution_count": 31,
   "metadata": {},
   "outputs": [
    {
     "data": {
      "text/plain": [
       "AveragePrice    float64\n",
       "4046             object\n",
       "4225             object\n",
       "4770             object\n",
       "type              int64\n",
       "region            int32\n",
       "dtype: object"
      ]
     },
     "execution_count": 31,
     "metadata": {},
     "output_type": "execute_result"
    }
   ],
   "source": [
    "data.dtypes"
   ]
  },
  {
   "cell_type": "code",
   "execution_count": 32,
   "metadata": {},
   "outputs": [],
   "source": [
    "data['4046']=data['4046'].astype('float')\n",
    "data['4225']=data['4225'].astype('float')\n",
    "data['4770']=data['4770'].astype('float')"
   ]
  },
  {
   "cell_type": "markdown",
   "metadata": {},
   "source": [
    "## Correlation analysis--Pearson coefficient matrix"
   ]
  },
  {
   "cell_type": "code",
   "execution_count": 33,
   "metadata": {},
   "outputs": [
    {
     "data": {
      "text/html": [
       "<div>\n",
       "<style scoped>\n",
       "    .dataframe tbody tr th:only-of-type {\n",
       "        vertical-align: middle;\n",
       "    }\n",
       "\n",
       "    .dataframe tbody tr th {\n",
       "        vertical-align: top;\n",
       "    }\n",
       "\n",
       "    .dataframe thead th {\n",
       "        text-align: right;\n",
       "    }\n",
       "</style>\n",
       "<table border=\"1\" class=\"dataframe\">\n",
       "  <thead>\n",
       "    <tr style=\"text-align: right;\">\n",
       "      <th></th>\n",
       "      <th>AveragePrice</th>\n",
       "      <th>4046</th>\n",
       "      <th>4225</th>\n",
       "      <th>4770</th>\n",
       "      <th>type</th>\n",
       "      <th>region</th>\n",
       "    </tr>\n",
       "  </thead>\n",
       "  <tbody>\n",
       "    <tr>\n",
       "      <th>AveragePrice</th>\n",
       "      <td>1.000000</td>\n",
       "      <td>-0.208317</td>\n",
       "      <td>-0.172928</td>\n",
       "      <td>-0.179446</td>\n",
       "      <td>0.615845</td>\n",
       "      <td>-0.011716</td>\n",
       "    </tr>\n",
       "    <tr>\n",
       "      <th>4046</th>\n",
       "      <td>-0.208317</td>\n",
       "      <td>1.000000</td>\n",
       "      <td>0.926110</td>\n",
       "      <td>0.833389</td>\n",
       "      <td>-0.225819</td>\n",
       "      <td>0.192073</td>\n",
       "    </tr>\n",
       "    <tr>\n",
       "      <th>4225</th>\n",
       "      <td>-0.172928</td>\n",
       "      <td>0.926110</td>\n",
       "      <td>1.000000</td>\n",
       "      <td>0.887855</td>\n",
       "      <td>-0.232289</td>\n",
       "      <td>0.145726</td>\n",
       "    </tr>\n",
       "    <tr>\n",
       "      <th>4770</th>\n",
       "      <td>-0.179446</td>\n",
       "      <td>0.833389</td>\n",
       "      <td>0.887855</td>\n",
       "      <td>1.000000</td>\n",
       "      <td>-0.210027</td>\n",
       "      <td>0.095252</td>\n",
       "    </tr>\n",
       "    <tr>\n",
       "      <th>type</th>\n",
       "      <td>0.615845</td>\n",
       "      <td>-0.225819</td>\n",
       "      <td>-0.232289</td>\n",
       "      <td>-0.210027</td>\n",
       "      <td>1.000000</td>\n",
       "      <td>-0.000280</td>\n",
       "    </tr>\n",
       "    <tr>\n",
       "      <th>region</th>\n",
       "      <td>-0.011716</td>\n",
       "      <td>0.192073</td>\n",
       "      <td>0.145726</td>\n",
       "      <td>0.095252</td>\n",
       "      <td>-0.000280</td>\n",
       "      <td>1.000000</td>\n",
       "    </tr>\n",
       "  </tbody>\n",
       "</table>\n",
       "</div>"
      ],
      "text/plain": [
       "              AveragePrice      4046      4225      4770      type    region\n",
       "AveragePrice      1.000000 -0.208317 -0.172928 -0.179446  0.615845 -0.011716\n",
       "4046             -0.208317  1.000000  0.926110  0.833389 -0.225819  0.192073\n",
       "4225             -0.172928  0.926110  1.000000  0.887855 -0.232289  0.145726\n",
       "4770             -0.179446  0.833389  0.887855  1.000000 -0.210027  0.095252\n",
       "type              0.615845 -0.225819 -0.232289 -0.210027  1.000000 -0.000280\n",
       "region           -0.011716  0.192073  0.145726  0.095252 -0.000280  1.000000"
      ]
     },
     "execution_count": 33,
     "metadata": {},
     "output_type": "execute_result"
    }
   ],
   "source": [
    "pd.DataFrame(data.corr(method='pearson'))"
   ]
  },
  {
   "cell_type": "markdown",
   "metadata": {},
   "source": [
    "## Summary\n",
    "\n",
    "With pearson coefficient matrix,\n",
    "\n",
    "4046.4225.4770 is negative correlation with average price,\n",
    "\n",
    "and type is possitive correlation\n",
    "\n",
    "Region has less correlation with average price."
   ]
  },
  {
   "cell_type": "markdown",
   "metadata": {},
   "source": [
    "## Principal component analysis"
   ]
  },
  {
   "cell_type": "code",
   "execution_count": 34,
   "metadata": {},
   "outputs": [],
   "source": [
    "Data=data.iloc[:,1:]\n",
    "Target=data.loc[:,'AveragePrice']"
   ]
  },
  {
   "cell_type": "code",
   "execution_count": 35,
   "metadata": {},
   "outputs": [
    {
     "data": {
      "text/plain": [
       "array([9.62409208e-01, 3.67997646e-02, 7.91027543e-04, 7.52583702e-11,\n",
       "       7.70645250e-14])"
      ]
     },
     "execution_count": 35,
     "metadata": {},
     "output_type": "execute_result"
    }
   ],
   "source": [
    "pca=PCA(n_components=5).fit(Data)\n",
    "pca.explained_variance_ratio_"
   ]
  },
  {
   "cell_type": "code",
   "execution_count": 36,
   "metadata": {},
   "outputs": [
    {
     "data": {
      "text/plain": [
       "array([[-378165.96094211,   26127.55855561,   -3336.40874363],\n",
       "       [-385172.43668458,   19282.20726795,   -2603.88885951],\n",
       "       [-340756.94815565,   65835.40652106,   -7265.94693051],\n",
       "       ...,\n",
       "       [-413745.94511163,  -11536.51355515,    1156.12151231],\n",
       "       [-413139.82113036,  -11386.09166988,    1114.44289349],\n",
       "       [-412606.25234751,  -12804.77246822,     651.06444766]])"
      ]
     },
     "execution_count": 36,
     "metadata": {},
     "output_type": "execute_result"
    }
   ],
   "source": [
    "Pca=PCA(n_components=3).fit(Data)\n",
    "pData=Pca.transform(Data)\n",
    "pData"
   ]
  },
  {
   "cell_type": "markdown",
   "metadata": {},
   "source": [
    "## Summary\n",
    "\n",
    "With using PCA,and show the explained variance ratio,\n",
    "\n",
    "n_components is choosing 3\n",
    "\n",
    "And transform the data."
   ]
  },
  {
   "cell_type": "markdown",
   "metadata": {},
   "source": [
    "## Predict\n",
    "\n",
    "The correlation between features is normally ok,\n",
    "\n",
    "and PCA n_components is 3\n",
    "\n",
    "With using two data,\n",
    "\n",
    "predicting average price with Gradient Boosting Regressor"
   ]
  },
  {
   "cell_type": "markdown",
   "metadata": {},
   "source": [
    "## Predict--PCA"
   ]
  },
  {
   "cell_type": "code",
   "execution_count": 37,
   "metadata": {},
   "outputs": [
    {
     "name": "stderr",
     "output_type": "stream",
     "text": [
      "c:\\users\\az11438\\appdata\\local\\programs\\python\\python37-32\\lib\\site-packages\\sklearn\\model_selection\\_split.py:2179: FutureWarning: From version 0.21, test_size will always complement train_size unless both are specified.\n",
      "  FutureWarning)\n"
     ]
    }
   ],
   "source": [
    "data_train,data_test, \\\n",
    "target_train,target_test = \\\n",
    "train_test_split(pData,Target,train_size=0.6)"
   ]
  },
  {
   "cell_type": "code",
   "execution_count": 38,
   "metadata": {},
   "outputs": [
    {
     "data": {
      "text/plain": [
       "GradientBoostingRegressor(alpha=0.9, criterion='friedman_mse', init=None,\n",
       "             learning_rate=0.2, loss='ls', max_depth=3, max_features=None,\n",
       "             max_leaf_nodes=None, min_impurity_decrease=0.0,\n",
       "             min_impurity_split=None, min_samples_leaf=1,\n",
       "             min_samples_split=2, min_weight_fraction_leaf=0.0,\n",
       "             n_estimators=100, n_iter_no_change=None, presort='auto',\n",
       "             random_state=None, subsample=1.0, tol=0.0001,\n",
       "             validation_fraction=0.1, verbose=0, warm_start=False)"
      ]
     },
     "execution_count": 38,
     "metadata": {},
     "output_type": "execute_result"
    }
   ],
   "source": [
    "GBR=GradientBoostingRegressor(learning_rate=0.2).fit(data_train,target_train)\n",
    "GBR"
   ]
  },
  {
   "cell_type": "code",
   "execution_count": 39,
   "metadata": {},
   "outputs": [
    {
     "name": "stdout",
     "output_type": "stream",
     "text": [
      "explained_variance_score:0.53\n",
      "r2_score:0.53\n",
      "mean_absolute_error:0.21\n",
      "mean_squared_error:0.08\n"
     ]
    }
   ],
   "source": [
    "pre=GBR.predict(data_train)\n",
    "print('explained_variance_score:%1.2f'%(explained_variance_score(target_train,pre)))\n",
    "print('r2_score:%1.2f'%r2_score(target_train,pre))\n",
    "print('mean_absolute_error:%1.2f'%mean_absolute_error(target_train,pre))\n",
    "print('mean_squared_error:%1.2f'%mean_squared_error(target_train,pre))"
   ]
  },
  {
   "cell_type": "code",
   "execution_count": 40,
   "metadata": {},
   "outputs": [
    {
     "name": "stdout",
     "output_type": "stream",
     "text": [
      "explained_variance_score:0.49\n",
      "r2_score:0.49\n",
      "mean_absolute_error:0.22\n",
      "mean_squared_error:0.08\n"
     ]
    }
   ],
   "source": [
    "predict=GBR.predict(data_test)\n",
    "print('explained_variance_score:%1.2f'%(explained_variance_score(target_test,predict)))\n",
    "print('r2_score:%1.2f'%r2_score(target_test,predict))\n",
    "print('mean_absolute_error:%1.2f'%mean_absolute_error(target_test,predict))\n",
    "print('mean_squared_error:%1.2f'%mean_squared_error(target_test,predict))"
   ]
  },
  {
   "cell_type": "markdown",
   "metadata": {},
   "source": [
    "## Predict--Feature Selection"
   ]
  },
  {
   "cell_type": "code",
   "execution_count": 41,
   "metadata": {},
   "outputs": [
    {
     "data": {
      "text/html": [
       "<div>\n",
       "<style scoped>\n",
       "    .dataframe tbody tr th:only-of-type {\n",
       "        vertical-align: middle;\n",
       "    }\n",
       "\n",
       "    .dataframe tbody tr th {\n",
       "        vertical-align: top;\n",
       "    }\n",
       "\n",
       "    .dataframe thead th {\n",
       "        text-align: right;\n",
       "    }\n",
       "</style>\n",
       "<table border=\"1\" class=\"dataframe\">\n",
       "  <thead>\n",
       "    <tr style=\"text-align: right;\">\n",
       "      <th></th>\n",
       "      <th>AveragePrice</th>\n",
       "      <th>4046</th>\n",
       "      <th>4225</th>\n",
       "      <th>4770</th>\n",
       "      <th>type</th>\n",
       "      <th>region</th>\n",
       "    </tr>\n",
       "  </thead>\n",
       "  <tbody>\n",
       "    <tr>\n",
       "      <th>0</th>\n",
       "      <td>1.33</td>\n",
       "      <td>1036.74</td>\n",
       "      <td>54454.85</td>\n",
       "      <td>48.16</td>\n",
       "      <td>0</td>\n",
       "      <td>0</td>\n",
       "    </tr>\n",
       "    <tr>\n",
       "      <th>1</th>\n",
       "      <td>1.35</td>\n",
       "      <td>674.28</td>\n",
       "      <td>44638.81</td>\n",
       "      <td>58.33</td>\n",
       "      <td>0</td>\n",
       "      <td>0</td>\n",
       "    </tr>\n",
       "    <tr>\n",
       "      <th>2</th>\n",
       "      <td>0.93</td>\n",
       "      <td>794.70</td>\n",
       "      <td>109149.67</td>\n",
       "      <td>130.50</td>\n",
       "      <td>0</td>\n",
       "      <td>0</td>\n",
       "    </tr>\n",
       "    <tr>\n",
       "      <th>3</th>\n",
       "      <td>1.08</td>\n",
       "      <td>1132.00</td>\n",
       "      <td>71976.41</td>\n",
       "      <td>72.58</td>\n",
       "      <td>0</td>\n",
       "      <td>0</td>\n",
       "    </tr>\n",
       "    <tr>\n",
       "      <th>4</th>\n",
       "      <td>1.28</td>\n",
       "      <td>941.48</td>\n",
       "      <td>43838.39</td>\n",
       "      <td>75.78</td>\n",
       "      <td>0</td>\n",
       "      <td>0</td>\n",
       "    </tr>\n",
       "  </tbody>\n",
       "</table>\n",
       "</div>"
      ],
      "text/plain": [
       "   AveragePrice     4046       4225    4770  type  region\n",
       "0          1.33  1036.74   54454.85   48.16     0       0\n",
       "1          1.35   674.28   44638.81   58.33     0       0\n",
       "2          0.93   794.70  109149.67  130.50     0       0\n",
       "3          1.08  1132.00   71976.41   72.58     0       0\n",
       "4          1.28   941.48   43838.39   75.78     0       0"
      ]
     },
     "execution_count": 41,
     "metadata": {},
     "output_type": "execute_result"
    }
   ],
   "source": [
    "data.head()"
   ]
  },
  {
   "cell_type": "code",
   "execution_count": 42,
   "metadata": {},
   "outputs": [],
   "source": [
    "Fdata=data.loc[:,['4046','4225','4770','type']]\n",
    "Ftarget=data.loc[:,'AveragePrice']"
   ]
  },
  {
   "cell_type": "code",
   "execution_count": 43,
   "metadata": {},
   "outputs": [
    {
     "name": "stderr",
     "output_type": "stream",
     "text": [
      "c:\\users\\az11438\\appdata\\local\\programs\\python\\python37-32\\lib\\site-packages\\sklearn\\model_selection\\_split.py:2179: FutureWarning: From version 0.21, test_size will always complement train_size unless both are specified.\n",
      "  FutureWarning)\n"
     ]
    }
   ],
   "source": [
    "dataTrain,dataTest, \\\n",
    "targetTrain,targetTest = \\\n",
    "train_test_split(Fdata,Ftarget,train_size=0.6)"
   ]
  },
  {
   "cell_type": "code",
   "execution_count": 56,
   "metadata": {},
   "outputs": [],
   "source": [
    "FGBR=GradientBoostingRegressor(learning_rate=0.3).fit(dataTrain,targetTrain)"
   ]
  },
  {
   "cell_type": "code",
   "execution_count": 57,
   "metadata": {},
   "outputs": [
    {
     "data": {
      "text/plain": [
       "GradientBoostingRegressor(alpha=0.9, criterion='friedman_mse', init=None,\n",
       "             learning_rate=0.3, loss='ls', max_depth=3, max_features=None,\n",
       "             max_leaf_nodes=None, min_impurity_decrease=0.0,\n",
       "             min_impurity_split=None, min_samples_leaf=1,\n",
       "             min_samples_split=2, min_weight_fraction_leaf=0.0,\n",
       "             n_estimators=100, n_iter_no_change=None, presort='auto',\n",
       "             random_state=None, subsample=1.0, tol=0.0001,\n",
       "             validation_fraction=0.1, verbose=0, warm_start=False)"
      ]
     },
     "execution_count": 57,
     "metadata": {},
     "output_type": "execute_result"
    }
   ],
   "source": [
    "FGBR"
   ]
  },
  {
   "cell_type": "code",
   "execution_count": 58,
   "metadata": {},
   "outputs": [
    {
     "name": "stdout",
     "output_type": "stream",
     "text": [
      "explained_variance_score:0.60\n",
      "r2_score:0.60\n",
      "mean_absolute_error:0.19\n",
      "mean_squared_error:0.06\n"
     ]
    }
   ],
   "source": [
    "Fpre=FGBR.predict(dataTrain)\n",
    "print('explained_variance_score:%1.2f'%(explained_variance_score(targetTrain,Fpre)))\n",
    "print('r2_score:%1.2f'%r2_score(targetTrain,Fpre))\n",
    "print('mean_absolute_error:%1.2f'%mean_absolute_error(targetTrain,Fpre))\n",
    "print('mean_squared_error:%1.2f'%mean_squared_error(targetTrain,Fpre))"
   ]
  },
  {
   "cell_type": "code",
   "execution_count": 59,
   "metadata": {},
   "outputs": [
    {
     "name": "stdout",
     "output_type": "stream",
     "text": [
      "explained_variance_score:0.52\n",
      "r2_score:0.52\n",
      "mean_absolute_error:0.21\n",
      "mean_squared_error:0.08\n"
     ]
    }
   ],
   "source": [
    "Fpredict=FGBR.predict(dataTest)\n",
    "print('explained_variance_score:%1.2f'%(explained_variance_score(targetTest,Fpredict)))\n",
    "print('r2_score:%1.2f'%r2_score(targetTest,Fpredict))\n",
    "print('mean_absolute_error:%1.2f'%mean_absolute_error(targetTest,Fpredict))\n",
    "print('mean_squared_error:%1.2f'%mean_squared_error(targetTest,Fpredict))"
   ]
  },
  {
   "cell_type": "markdown",
   "metadata": {},
   "source": [
    "## Summary\n",
    "\n",
    "With using PCA and feature selection,\n",
    "\n",
    "finding that using feature selection has higher r2_score\n",
    "\n",
    "- using feature selection is better than PCA data\n",
    "\n",
    "\n",
    "- With using feature selection,r2_score is 0.52\n"
   ]
  },
  {
   "cell_type": "code",
   "execution_count": null,
   "metadata": {},
   "outputs": [],
   "source": []
  }
 ],
 "metadata": {
  "kernelspec": {
   "display_name": "Python 3",
   "language": "python",
   "name": "python3"
  },
  "language_info": {
   "codemirror_mode": {
    "name": "ipython",
    "version": 3
   },
   "file_extension": ".py",
   "mimetype": "text/x-python",
   "name": "python",
   "nbconvert_exporter": "python",
   "pygments_lexer": "ipython3",
   "version": "3.7.1"
  }
 },
 "nbformat": 4,
 "nbformat_minor": 2
}
